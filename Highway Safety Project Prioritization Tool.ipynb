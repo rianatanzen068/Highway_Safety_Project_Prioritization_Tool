{
 "cells": [
  {
   "cell_type": "markdown",
   "metadata": {},
   "source": [
    "# Import necessary packages"
   ]
  },
  {
   "cell_type": "code",
   "execution_count": null,
   "metadata": {},
   "outputs": [],
   "source": [
    "#Cell 1\n",
    "\n",
    "import pandas as pd\n",
    "import numpy as np\n",
    "import geopandas as gp\n",
    "from shapely.geometry import Point, LineString, shape"
   ]
  },
  {
   "cell_type": "markdown",
   "metadata": {},
   "source": [
    "# Import necessary shapefiles"
   ]
  },
  {
   "cell_type": "code",
   "execution_count": null,
   "metadata": {},
   "outputs": [],
   "source": [
    "#Cell 2\n",
    "\n",
    "#Shapefile 1 - Importing Project Information\n",
    "projects = gp.read_file(\"C:/Users/Shapefiles/ProjectList.shp\")"
   ]
  },
  {
   "cell_type": "code",
   "execution_count": null,
   "metadata": {},
   "outputs": [],
   "source": [
    "#Cell 3\n",
    "\n",
    "#Shapefile 2 - Importing dataset of all roadway segments \n",
    "segments_main = gp.read_file(\"C:/Users/SHAPEFILES/roadway_segments.shp\")"
   ]
  },
  {
   "cell_type": "code",
   "execution_count": null,
   "metadata": {},
   "outputs": [],
   "source": [
    "#Cell 4\n",
    "\n",
    "#Shapefile 3 - Importing dataset of all intersections\n",
    "intersections_main = gp.read_file(\"C:/Users/SHAPEFILES/Intersections.shp\")"
   ]
  },
  {
   "cell_type": "code",
   "execution_count": null,
   "metadata": {},
   "outputs": [],
   "source": [
    "#Cell 5\n",
    "\n",
    "#Shapefile 4 - Importing dataset of all ramps\n",
    "ramps_main = gp.read_file(\"C:/Users/SHAPEFILES/Ramps.shp\")"
   ]
  },
  {
   "cell_type": "markdown",
   "metadata": {},
   "source": [
    "# Spatial Join"
   ]
  },
  {
   "cell_type": "code",
   "execution_count": null,
   "metadata": {},
   "outputs": [],
   "source": [
    "#Cell 6\n",
    "\n",
    "#Spatial join 1 - between projects and roadway segments\n",
    "Roadway = gp.sjoin(projects, segments_main, how=\"inner\", op=\"intersects\")\n",
    "Roadway.head ()"
   ]
  },
  {
   "cell_type": "code",
   "execution_count": null,
   "metadata": {},
   "outputs": [],
   "source": [
    "#Cell 7\n",
    "\n",
    "#Spatial join 2 - between projects and intersections\n",
    "Intersection = gp.sjoin(projects, intersections_main, how=\"inner\", op=\"intersects\")\n",
    "Intersection.head ()"
   ]
  },
  {
   "cell_type": "code",
   "execution_count": null,
   "metadata": {},
   "outputs": [],
   "source": [
    "#Cell 8\n",
    "\n",
    "#Spatial join 3 - between projects and roadway ramps\n",
    "Ramp = gp.sjoin(projects, ramps_main, how=\"inner\", op=\"intersects\")\n",
    "Ramp.head ()"
   ]
  },
  {
   "cell_type": "markdown",
   "metadata": {},
   "source": [
    "# Roadway segment data"
   ]
  },
  {
   "cell_type": "code",
   "execution_count": null,
   "metadata": {},
   "outputs": [],
   "source": [
    "#Cell 9\n",
    "\n",
    "#If the beginning milepoint is in the middle of a segment, it will get \"S\"\n",
    "#If the ending milepoint is in the middle of a segment, it will get \"E\"\n",
    "#If the beginiing and ending mileipoint both fall in between a segment, it will get \"M\"\n",
    "#Otherwise it will get \"0\"\n",
    "\n",
    "def start_end(x):\n",
    "    if x.BMP_prj>x.BMP_seg and x.EMP_prj <x.EMP_seg:\n",
    "        return \"M\"\n",
    "    elif x.BMP_prj>x.BMP_seg and x.BMP_prj<=x.EMP_seg:\n",
    "        return \"S\"\n",
    "    elif x.EMP_prj>=x.BMP_seg and x.EMP_prj<x.EMP_seg:\n",
    "        return \"E\"\n",
    "    else:\n",
    "        return \"O\""
   ]
  },
  {
   "cell_type": "code",
   "execution_count": null,
   "metadata": {},
   "outputs": [],
   "source": [
    "#Cell 10\n",
    "\n",
    "#Creating new column for \"S\", \"E\", \"M\" and \"O\"\n",
    "Roadway['StartEnd']=Roadway.apply (start_end, axis = 1)\n",
    "Roadway.head (2)"
   ]
  },
  {
   "cell_type": "code",
   "execution_count": null,
   "metadata": {},
   "outputs": [],
   "source": [
    "#Cell 11\n",
    "\n",
    "Roadway['StartEnd'].value_counts ()"
   ]
  },
  {
   "cell_type": "code",
   "execution_count": null,
   "metadata": {},
   "outputs": [],
   "source": [
    "#Cell 12\n",
    "# NEW BMP\n",
    "\n",
    "#Replacing segment beginning mile points with project's beginning mile points\n",
    "#For \"S\"  or \"M\" >> new_BMP = BMP_prj\n",
    "#Otherwise new_BMP = BMP (segment)\n",
    "\n",
    "def new_BMP (x):\n",
    "    if x.StartEnd==\"S\":\n",
    "        A = x.BMP_prj\n",
    "        return A\n",
    "    elif x.StartEnd==\"M\":\n",
    "        B = x.BMP_prj\n",
    "        return B\n",
    "    else:\n",
    "        C = x.BMP_seg\n",
    "        return C"
   ]
  },
  {
   "cell_type": "code",
   "execution_count": null,
   "metadata": {},
   "outputs": [],
   "source": [
    "#Cell 13\n",
    "# NEW EMP\n",
    "\n",
    "#Replacing segment ending mile points with project's ending mile points\n",
    "#For \"E\"  or \"M\" >> new_EMP = EMP_prj\n",
    "#Otherwise new_EMP = EMP (segment)\n",
    "\n",
    "def new_EMP (x):\n",
    "    if x.StartEnd==\"E\":\n",
    "        D = x.EMP_prj\n",
    "        return D\n",
    "    elif x.StartEnd==\"M\":\n",
    "        E = x.EMP_prj\n",
    "        return E\n",
    "    else:\n",
    "        F = x.EMP_seg\n",
    "        return F"
   ]
  },
  {
   "cell_type": "code",
   "execution_count": null,
   "metadata": {},
   "outputs": [],
   "source": [
    "#Cell 14\n",
    "\n",
    "#Adding column for New_BMP, New_EMP and New_Length\n",
    "Roadway['New_BMP']=Roadway.apply (new_BMP, axis = 1)\n",
    "Roadway['New_EMP']=Roadway.apply (new_EMP, axis = 1)\n",
    "Roadway['New_Length'] = Roadway['New_EMP'] - Roadway['New_BMP']\n",
    "Roadway.head (5)"
   ]
  },
  {
   "cell_type": "code",
   "execution_count": null,
   "metadata": {},
   "outputs": [],
   "source": [
    "#Cell 15\n",
    "\n",
    "#Calculating the modified EB and EECalt for the \"S\",\"E\" and \"M\" segments. The values will remain the same for the \"O\" segments.\n",
    "#KAB\n",
    "Roadway[\"New_EB_KAB\"] = (Roadway[\"New_Length\"]/Roadway[\"Length_seg\"]) * Roadway [\"EB_KAB\"]\n",
    "Roadway[\"New_EEC_KAB\"] = (Roadway[\"New_Length\"]/Roadway[\"Length_seg\"]) * Roadway [\"EEC_KAB\"]\n",
    "Roadway[\"New_EECalt_KAB\"] = (Roadway[\"New_Length\"]/Roadway[\"Length_seg\"]) * Roadway [\"EECalt_KAB\"]\n",
    "#CO\n",
    "Roadway[\"New_EB_CO\"] = (Roadway[\"New_Length\"]/Roadway[\"Length_seg\"]) * Roadway [\"EB_CO\"]\n",
    "Roadway[\"New_EEC_CO\"] = (Roadway[\"New_Length\"]/Roadway[\"Length_seg\"]) * Roadway [\"EEC_CO\"]\n",
    "\n",
    "\n",
    "Roadway.head ()"
   ]
  },
  {
   "cell_type": "code",
   "execution_count": null,
   "metadata": {},
   "outputs": [],
   "source": [
    "#Cell 16\n",
    "\n",
    "# Keep the necessary columns: Project_ID, modified columns of EB_KAB, EECalt_KAB, EB_CO and EEC_CO\n",
    "Roadway_2 = Roadway [['Project_ID',\n",
    " 'New_EB_KAB',\n",
    " 'New_EECalt_KAB',\n",
    " 'New_EB_CO',\n",
    " 'New_EEC_CO']]\n",
    "Roadway_2.head ()"
   ]
  },
  {
   "cell_type": "code",
   "execution_count": null,
   "metadata": {},
   "outputs": [],
   "source": [
    "#Cell 17\n",
    "\n",
    "#\"Groupby with sum\" will sum up each column based on same project_ID\n",
    "Roadway_grouped=Roadway_2.groupby('Project_ID').sum().reset_index() \n",
    "Roadway_grouped.head ()"
   ]
  },
  {
   "cell_type": "code",
   "execution_count": null,
   "metadata": {},
   "outputs": [],
   "source": [
    "#Cell 18\n",
    "\n",
    "#Renaming the columns with \"_road\" suffix\n",
    "Roadway_grouped = Roadway_grouped.rename(columns={\"New_EB_KAB\": \"EB_KAB_road\", \"New_EECalt_KAB\": \"EECalt_KAB_road\", \"New_EB_CO\": \"EB_CO_road\", \"New_EEC_CO\": \"EEC_CO_road\"})\n",
    "Roadway_grouped.head ()"
   ]
  },
  {
   "cell_type": "markdown",
   "metadata": {},
   "source": [
    "# Intersection data"
   ]
  },
  {
   "cell_type": "code",
   "execution_count": null,
   "metadata": {},
   "outputs": [],
   "source": [
    "#Cell 19\n",
    "\n",
    "#Keep the necessary columns only\n",
    "Intersection_2 = Intersection [['Project_ID',\n",
    " 'EB_KAB',\n",
    " 'EECalt_KAB',\n",
    " 'EB_CO',\n",
    " 'EEC_CO']]"
   ]
  },
  {
   "cell_type": "code",
   "execution_count": null,
   "metadata": {},
   "outputs": [],
   "source": [
    "#Cell 20\n",
    "\n",
    "#\"Groupby with sum\" will sum up each column based on same project_ID\n",
    "Int_grouped=Intersection_2.groupby('Project_ID').sum().reset_index() \n",
    "Int_grouped.head ()"
   ]
  },
  {
   "cell_type": "code",
   "execution_count": null,
   "metadata": {},
   "outputs": [],
   "source": [
    "#Cell 21\n",
    "\n",
    "#Renaming the columns with \"_int\" suffix\n",
    "Int_grouped = Int_grouped.rename(columns={\"EB_KAB\": \"EB_KAB_int\", \"EECalt_KAB\": \"EECalt_KAB_int\", \"EB_CO\": \"EB_CO_int\", \"EEC_CO\": \"EEC_CO_int\"})\n",
    "Int_grouped.head ()"
   ]
  },
  {
   "cell_type": "markdown",
   "metadata": {},
   "source": [
    "# Ramp data"
   ]
  },
  {
   "cell_type": "code",
   "execution_count": null,
   "metadata": {},
   "outputs": [],
   "source": [
    "#Cell 22\n",
    "\n",
    "#Keep the necessary columns only\n",
    "Ramp_2 = Ramp [['Project_ID',\n",
    " 'EB_KAB',\n",
    " 'EECalt_KAB',\n",
    " 'EB_CO',\n",
    " 'EEC_CO']]"
   ]
  },
  {
   "cell_type": "code",
   "execution_count": null,
   "metadata": {},
   "outputs": [],
   "source": [
    "#Cell 23\n",
    "\n",
    "#\"Groupby with sum\" will sum up each column based on same project_ID\n",
    "Ramp_grouped=Ramp_2.groupby('Project_ID').sum().reset_index() \n",
    "Ramp_grouped.head ()"
   ]
  },
  {
   "cell_type": "code",
   "execution_count": null,
   "metadata": {},
   "outputs": [],
   "source": [
    "#Cell 24\n",
    "\n",
    "#Renaming the columns with \"_ramp\" suffix\n",
    "Ramp_grouped = Ramp_grouped.rename(columns={\"EB_KAB\": \"EB_KAB_ramp\", \"EECalt_KAB\": \"EECalt_KAB_ramp\", \"EB_CO\": \"EB_CO_ramp\", \"EEC_CO\": \"EEC_CO_ramp\"})\n",
    "Ramp_grouped.head ()"
   ]
  },
  {
   "cell_type": "markdown",
   "metadata": {},
   "source": [
    "# Merging datasets for final score calculation"
   ]
  },
  {
   "cell_type": "code",
   "execution_count": null,
   "metadata": {},
   "outputs": [],
   "source": [
    "#Cell 25\n",
    "\n",
    "ID = projects ['Project_ID']\n",
    "ID.head ()"
   ]
  },
  {
   "cell_type": "code",
   "execution_count": null,
   "metadata": {},
   "outputs": [],
   "source": [
    "#Cell 26\n",
    "\n",
    "# Merge 1 >> Project_ID and Roadway\n",
    "merge1 = pd.merge (ID,Roadway_grouped,left_on = \"Project_ID\",right_on = \"Project_ID\", how = \"left\")\n",
    "merge1.head ()"
   ]
  },
  {
   "cell_type": "code",
   "execution_count": null,
   "metadata": {},
   "outputs": [],
   "source": [
    "#Cell 27\n",
    "\n",
    "# Merge 2 >> Merge 1 and Intersection\n",
    "merge2 = pd.merge (merge1,Int_grouped,left_on = \"Project_ID\",right_on = \"Project_ID\", how = \"left\")\n",
    "merge2.head ()"
   ]
  },
  {
   "cell_type": "code",
   "execution_count": null,
   "metadata": {},
   "outputs": [],
   "source": [
    "#Cell 28\n",
    "\n",
    "# Merge 3 >> Merge 3 and Ramps\n",
    "merge3 = pd.merge (merge2,Ramp_grouped,left_on = \"Project_ID\",right_on = \"Project_ID\", how = \"left\")\n",
    "merge3.head ()"
   ]
  },
  {
   "cell_type": "code",
   "execution_count": null,
   "metadata": {},
   "outputs": [],
   "source": [
    "#Cell 29\n",
    "\n",
    "#Filling Nan by 0\n",
    "merge3 = merge3.fillna(0) \n",
    "merge3.head ()"
   ]
  },
  {
   "cell_type": "code",
   "execution_count": null,
   "metadata": {},
   "outputs": [],
   "source": [
    "#Cell 30\n",
    "\n",
    "#Summing up the EB and EECalt of all three compontents of a project\n",
    "#KAB\n",
    "merge3 ['EB_KAB'] = merge3 ['EB_KAB_road'] + merge3 ['EB_KAB_int'] + merge3 ['EB_KAB_ramp']\n",
    "merge3 ['EECalt_KAB'] = merge3 ['EECalt_KAB_road'] + merge3 ['EECalt_KAB_int'] + merge3 ['EECalt_KAB_ramp']\n",
    "\n",
    "#CO\n",
    "merge3 ['EB_CO'] = merge3 ['EB_CO_road'] + merge3 ['EB_CO_int'] + merge3 ['EB_CO_ramp']\n",
    "merge3 ['EEC_CO'] = merge3 ['EEC_CO_road'] + merge3 ['EEC_CO_int'] + merge3 ['EEC_CO_ramp']\n",
    "\n",
    "\n",
    "merge3.head ()"
   ]
  },
  {
   "cell_type": "code",
   "execution_count": null,
   "metadata": {},
   "outputs": [],
   "source": [
    "#Cell 31\n",
    "\n",
    "#Importing csv for weight calculation for KAB and CO \n",
    "\n",
    "df = pd.read_csv (\"crash number and cost.csv\", encoding = 'latin-1')\n",
    "df\n"
   ]
  },
  {
   "cell_type": "code",
   "execution_count": null,
   "metadata": {},
   "outputs": [],
   "source": [
    "#Cell 32\n",
    "\n",
    "#Weight calculation for KAB (a) and CO (b)\n",
    "\n",
    "df ['Total cost'] = df ['Comprehensive cost'] * df ['Number of crashes']\n",
    "df ['KABCO_INDICATOR'] = np.where(df['Severity'].isin(['K','A','B']), 'KAB', 'CO')\n",
    "\n",
    "df_grouped=df.groupby('KABCO_INDICATOR').agg({'Total cost':'sum','Number of crashes':'sum'}).reset_index()\n",
    "df_grouped['Weighted_Cost']=df_grouped['Total cost']/df_grouped['Number of crashes']\n",
    "df_grouped['Total_Weighted_Cost'] = df_grouped['Weighted_Cost'].sum()\n",
    "df_grouped['Ratio'] = df_grouped['Weighted_Cost']/df_grouped['Total_Weighted_Cost']\n",
    "\n",
    "df_grouped=df_grouped[['KABCO_INDICATOR','Ratio']]\n",
    "ratio_dict= dict(zip(df_grouped['KABCO_INDICATOR'],df_grouped['Ratio']))\n",
    "\n",
    "a = round (ratio_dict['KAB'],2)\n",
    "b= round (ratio_dict['CO'],2)\n",
    "\n",
    "a,b"
   ]
  },
  {
   "cell_type": "code",
   "execution_count": null,
   "metadata": {},
   "outputs": [],
   "source": [
    "#Cell 33\n",
    "\n",
    "#Final Score Calculation\n",
    "merge3 ['Final_Score'] = (a/2)*merge3 ['EB_KAB'] + (a/2)*merge3 ['EECalt_KAB'] + (b/2)*merge3 ['EB_CO'] + (b/2)*merge3 ['EEC_CO']\n",
    "merge3.head (2)"
   ]
  },
  {
   "cell_type": "code",
   "execution_count": null,
   "metadata": {},
   "outputs": [],
   "source": [
    "#Cell 34\n",
    "\n",
    "#Sorting the scores from highest to lowest\n",
    "FINAL_Score_sorted = merge3.sort_values(by= \"Final_Score\", ascending=False)\n",
    "FINAL_Score_sorted.head ()"
   ]
  },
  {
   "cell_type": "code",
   "execution_count": null,
   "metadata": {},
   "outputs": [],
   "source": [
    "#Cell 35\n",
    "\n",
    "#Adding Rank\n",
    "FINAL_Score_sorted[\"Rank\"] = FINAL_Score_sorted[\"Final_Score\"].rank(ascending=False)\n",
    "FINAL_Score_sorted.head ()"
   ]
  },
  {
   "cell_type": "code",
   "execution_count": null,
   "metadata": {},
   "outputs": [],
   "source": [
    "#Cell 36\n",
    "\n",
    "# Saving the file as .csv\n",
    "FINAL_Score_sorted.to_csv (\"Final_Score_by_ProjectID.csv\")"
   ]
  }
 ],
 "metadata": {
  "kernelspec": {
   "display_name": "Python 3",
   "language": "python",
   "name": "python3"
  },
  "language_info": {
   "codemirror_mode": {
    "name": "ipython",
    "version": 3
   },
   "file_extension": ".py",
   "mimetype": "text/x-python",
   "name": "python",
   "nbconvert_exporter": "python",
   "pygments_lexer": "ipython3",
   "version": "3.7.3"
  }
 },
 "nbformat": 4,
 "nbformat_minor": 2
}
